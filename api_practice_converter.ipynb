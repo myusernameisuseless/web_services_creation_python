{
 "cells": [
  {
   "cell_type": "code",
   "execution_count": 64,
   "metadata": {},
   "outputs": [
    {
     "name": "stdout",
     "output_type": "stream",
     "text": [
      "Correct\n"
     ]
    }
   ],
   "source": [
    "import requests\n",
    "from decimal import Decimal\n",
    "\n",
    "\n",
    "correct = Decimal('3754.8057')\n",
    "result = convert(Decimal(\"1000.1000\"), 'RUR', 'JPY', \"17/02/2005\", requests)\n",
    "if result == correct:\n",
    "    print(\"Correct\")\n",
    "else:\n",
    "    print(\"Incorrect: %s != %s\" % (result, correct))"
   ]
  },
  {
   "cell_type": "code",
   "execution_count": null,
   "metadata": {},
   "outputs": [],
   "source": [
    "В этом задании придется написать свой конвертер валют (см. приложенный файл). \n",
    "Курсы валют нужно брать из API Центробанка. Документация по нему тут, потребуется только XML_daily.asp. \n",
    "(Обратите внимание, что указанный в документации API протокол http больше не поддерживается при запросах \n",
    " с помощью requests.get, указывайте в строке запроса https)  \n",
    "\n",
    "В функцию convert(amount, cur_from, cur_to, date, requests) будет передана сумма amount в валюте с кодом cur_from, \n",
    "и её требуется перевести в валюту cur_to через рубль (код: RUR). Для запроса к API нужно использовать переданный requests, \n",
    "точнее, его метод get().\n",
    "\n",
    "Все суммы и курсы требуется хранить в Decimal, т.к. для финансовых данных вычисления с фиксированной точкой подходят больше.\n",
    "\n",
    "Конечный результат нужно округлить до 4-х знаков, перед тем как вернуть его из функции. Посмотрите метод quantize().\n",
    "\n",
    "Для некоторых валют курс возвращается из расчета не на одну денежную единицу указанной валюты, а на 10 или даже 100, \n",
    "поэтому у курса валюты в XML есть не только Value, но и Nominal, и справедлива формула: Nominal ед. валюты = Value рублей.\n",
    "\n",
    "При проверке на сервере сеть недоступна. В функцию будет передан фейковый requests, его интерфейс и response аналогичны \n",
    "настоящему. Если его использовать в объеме, требуемом для задания, разницы не будет заметно."
   ]
  },
  {
   "cell_type": "code",
   "execution_count": 63,
   "metadata": {},
   "outputs": [],
   "source": [
    "from bs4 import BeautifulSoup\n",
    "from decimal import Decimal\n",
    "\n",
    "\n",
    "def convert(amount, cur_from, cur_to, date, requests):\n",
    "    response = requests.get(f'http://cbr.ru/scripts/XML_daily.asp?date_req={date}')\n",
    "    soup = BeautifulSoup(response.content, 'xml')\n",
    "    rate = str(soup.find('CharCode', text=cur_to).find_next_sibling('Value').string)\n",
    "    rate = Decimal(rate.replace(',','.'))\n",
    "    result = ((amount / rate) * 100).quantize(Decimal('.0001'))\n",
    "    return result  \n"
   ]
  }
 ],
 "metadata": {
  "kernelspec": {
   "display_name": "Python 3",
   "language": "python",
   "name": "python3"
  },
  "language_info": {
   "codemirror_mode": {
    "name": "ipython",
    "version": 3
   },
   "file_extension": ".py",
   "mimetype": "text/x-python",
   "name": "python",
   "nbconvert_exporter": "python",
   "pygments_lexer": "ipython3",
   "version": "3.8.5"
  }
 },
 "nbformat": 4,
 "nbformat_minor": 4
}
